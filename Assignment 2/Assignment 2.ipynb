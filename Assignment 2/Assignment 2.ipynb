{
 "cells": [
  {
   "cell_type": "markdown",
   "metadata": {},
   "source": [
    "# Implementation of Backpropagation in a 3-layer Neural Network\n",
    "\n",
    "In this notebook, we will implement a 3-Layer Neural Network with the following structure.\n",
    "<br> Layers: {1−64−𝑅𝑒𝐿𝑈−64−𝑅𝑒𝐿𝑈−64−1−𝑠𝑖𝑔𝑚𝑜𝑖𝑑}\n",
    "\n",
    "We will be using the following algorithm to build our network: <br>\n",
    "1. Ask the user for the mean and standard deviation of a 1D Gaussian that will be used to build the input dataset.\n",
    "2. Build the data set, visualize it, and split it into train (90%) and test(10%).\n",
    "3. Define the activation functions to be used. \n",
    "4. Initialize the weights using a Gaussian distribution with zero mean and std=0.01.\n",
    "5. Define the forward propagation method.\n",
    "6. Compute for the cost.\n",
    "7. Define the backward propagation function and optimization\n",
    "8. Train the model using the train dataset\n",
    "8. Predict and visualize the output\n",
    "\n",
    "### 1. Packages\n",
    " We are restricted in using only the following packages.\n",
    " <ul>\n",
    "    <li> <em>numpy</em> is the main package for scientific computing with Python.</li>\n",
    "    <li> <em>matplotlib</em> is a library to plot graphs in Python.</li>\n",
    "</ul>\n",
    "   "
   ]
  },
  {
   "cell_type": "code",
   "execution_count": 1,
   "metadata": {
    "scrolled": false
   },
   "outputs": [],
   "source": [
    "import numpy as np\n",
    "import matplotlib.pyplot as plt"
   ]
  },
  {
   "cell_type": "markdown",
   "metadata": {},
   "source": [
    "### 2. Building your dataset and defining the activation functions\n",
    "First, we define a function <em>gaussian_1d</em> that will draw 1,000,000 random samples from a 1D Gaussian\n",
    "<br>Next, we  build a dataset <em>data</em> with 1000 histogram bins from it.\n",
    "<br>From the dataset, we split it into train and test. "
   ]
  },
  {
   "cell_type": "code",
   "execution_count": 14,
   "metadata": {},
   "outputs": [
    {
     "data": {
      "image/png": "[encoded data removed]",
      "text/plain": [
       "<Figure size 432x288 with 1 Axes>"
      ]
     },
     "metadata": {
      "needs_background": "light"
     },
     "output_type": "display_data"
    }
   ],
   "source": [
    "def gaussian_1d(mean, std, model=True):\n",
    "    samples = np.random.normal(mean, std, 1000000)\n",
    "    freq, edges = np.histogram(samples, 1000, density=True)\n",
    "    plt.plot(edges[:-1], freq, 'o', color='b', label=\"Observation\")\n",
    "    plt.rc('axes', labelsize=14)\n",
    "    plt.xlabel('x = Samples')\n",
    "    plt.legend(loc='upper left')\n",
    "    plt.ylabel('y = Frequency')\n",
    "    plt.savefig(\"gaussian_samples.png\")\n",
    "    plt.show()\n",
    "    plt.close('all')\n",
    "    return edges, freq\n",
    "\n",
    "#mean = float(input(\"Mean = \"))\n",
    "#std = float(input (\"Standard Deviation = \"))\n",
    "mean = 0\n",
    "std = 1\n",
    "x, freq = gaussian_1d(mean, std)\n",
    "len_dataset = len(x)\n",
    "train_length = int(0.9 * len_dataset)\n",
    "x_train, y_train = x[:train_length][:, np.newaxis], freq[:train_length][:, np.newaxis]\n",
    "x_test, y_test = x[train_length:][:, np.newaxis], freq[train_length:][:, np.newaxis]\n",
    "\n",
    "# Define the activation functions to be used\n",
    "def ReLU(Z):\n",
    "    A = np.maximum(0, Z)\n",
    "    return A\n",
    "\n",
    "def ReLU_prime(A):\n",
    "    A[A <= 0] = 0\n",
    "    A[A > 0] = 1\n",
    "    return A\n",
    "    \n",
    "def sigmoid(Z):   \n",
    "    A = 1/(1 + np.exp(-Z)) \n",
    "    return A\n",
    "\n",
    "def sigmoid_prime(A):\n",
    "    return A*(1-A)"
   ]
  },
  {
   "cell_type": "markdown",
   "metadata": {},
   "source": [
    "### 3. Initialization\n",
    "We initialize our parameters, weights and biases. <br>\n",
    "<strong>Instructions </strong> <br>\n",
    "<ul> \n",
    "    <li> As required, use Gaussian distribution with mean = 0 and standard deviation = 0.01 to initialize our weights. Use np.random.normal(mean, std, 64) </li>\n",
    "    <li> As chosen, use zero initialization for the biases. Use np.zeros(shape)."
   ]
  },
  {
   "cell_type": "code",
   "execution_count": 15,
   "metadata": {},
   "outputs": [],
   "source": [
    "# define the mean and standard deviation to be used for the weights\n",
    "mean_i = 0\n",
    "std_i = 0.01\n",
    "\n",
    "# Determine the size of our layers\n",
    "def initialize_params():\n",
    "    W1 = np.random.normal(mean_i, std_i, 64)\n",
    "    W1 = W1.reshape(64, 1)\n",
    "    b1 = np.zeros(shape = (64, 1)) \n",
    "\n",
    "    W2 = np.random.normal(mean_i, std_i, 64*64)\n",
    "    W2 = W2.reshape(64, 64)\n",
    "    b2 = np.zeros(shape =(64, 1))\n",
    "    \n",
    "    W3 = np.random.normal(mean_i, std_i, 64)\n",
    "    W3 = W3.reshape(1, 64)\n",
    "    b3 = np.zeros(shape = (1, 1)) \n",
    "    return  W1, W2, W3, b1, b2, b3"
   ]
  },
  {
   "cell_type": "markdown",
   "metadata": {},
   "source": [
    "### 4. Forward Propagation\n",
    "We define the function that will perform forward propagation of the 3-Layer Neural Network using 3 activation ReLU, ReLU, sigmoid with an output of the prediction and the data of previous iteration. \n",
    "\n",
    "\n"
   ]
  },
  {
   "cell_type": "code",
   "execution_count": 16,
   "metadata": {},
   "outputs": [],
   "source": [
    "def forward_prop(X, W1, W2, W3, b1, b2, b3): \n",
    "    Z1 = np.dot(W1, X.T) + b1 \n",
    "    A1 = ReLU(Z1) \n",
    "    Z2 = np.dot(W2, A1) + b2 \n",
    "    A2 = ReLU(Z2)  \n",
    "    Z3 = np.dot(W3, A2) + b3 \n",
    "    A3 = sigmoid(Z3)  \n",
    "    cache = {\"Z1\": Z1, \n",
    "             \"A1\": A1, \n",
    "             \"Z2\": Z2, \n",
    "             \"A2\": A2,\n",
    "             \"Z3\": Z3, \n",
    "             \"A3\": A3}\n",
    "    return A3, cache "
   ]
  },
  {
   "cell_type": "markdown",
   "metadata": {},
   "source": [
    "### 5. Cost Function\n",
    "We define the function to compute for the loss using the Squared Error (MSE) Loss Function"
   ]
  },
  {
   "cell_type": "code",
   "execution_count": 17,
   "metadata": {},
   "outputs": [],
   "source": [
    "def compute_cost(y_predict, Y):\n",
    "    m = len(Y)\n",
    "    s = np.sum(np.square(y_predict - Y)) / m\n",
    "    return s"
   ]
  },
  {
   "cell_type": "markdown",
   "metadata": {},
   "source": [
    "### 6. Backpropagation and optimization\n",
    "We define the function that will perform backward propagation with learning rate = 0.1"
   ]
  },
  {
   "cell_type": "code",
   "execution_count": 18,
   "metadata": {},
   "outputs": [],
   "source": [
    "learning_rate = 0.1\n",
    "def back_prop(W1, W2, W3, b1, b2, b3, X, Y, cache):\n",
    "    # Retrieve the values cache memory dictionary \n",
    "    m = len(X)\n",
    "    Z1 = cache['Z1'] \n",
    "    Z2 = cache['Z2']\n",
    "    Z3 = cache['Z3'] \n",
    "    A1 = cache['A1'] \n",
    "    A2 = cache['A2']    \n",
    "    A3 = cache['A3']\n",
    "    # Backward propagation: calculate dW1, db1, dW2, db2.  \n",
    "    dA3 = 2 * (A3 - Y.T)\n",
    "    dZ3 = np.multiply(dA3, sigmoid_prime(A3))\n",
    "    dW3 = (1 / m) * np.dot(dZ3, A2.T) \n",
    "    db3 = (1 / m) * np.sum(dZ3, axis = 1, keepdims = True) \n",
    " \n",
    "    dZ2 = np.multiply(np.dot(W3.T, dZ3), ReLU_prime(A2)) \n",
    "    dW2 = (1 / m) * np.dot(dZ2, A1.T) \n",
    "    db2 = (1 / m) * np.sum(dZ2, axis = 1, keepdims = True) \n",
    "   \n",
    "      \n",
    "    dZ1 = np.multiply(np.dot(W2.T, dZ2), ReLU_prime(A1))\n",
    "    dW1 = (1 / m) * np.dot(dZ1, X) \n",
    "    db1 = (1 / m) * np.sum(dZ1, axis = 1, keepdims = True) \n",
    "    \n",
    "       \n",
    "    # Updating the parameters according to algorithm \n",
    "    W1 = W1 - learning_rate * dW1 \n",
    "    b1 = b1 - learning_rate * db1 \n",
    "    W2 = W2 - learning_rate * dW2 \n",
    "    b2 = b2 - learning_rate * db2 \n",
    "    W3 = W3 - learning_rate * dW3 \n",
    "    b3 = b3 - learning_rate * db3 \n",
    "    \n",
    "    return W1, W2, W3, b1, b2, b3"
   ]
  },
  {
   "cell_type": "markdown",
   "metadata": {},
   "source": [
    "### 7. Train the model"
   ]
  },
  {
   "cell_type": "code",
   "execution_count": 19,
   "metadata": {},
   "outputs": [
    {
     "name": "stdout",
     "output_type": "stream",
     "text": [
      "Cost after iteration  0:  150.762591\n",
      "Cost after iteration  1:  147.439540\n",
      "Cost after iteration  2:  144.200136\n",
      "Cost after iteration  3:  141.043281\n",
      "Cost after iteration  4:  137.967777\n",
      "Cost after iteration  5:  134.972338\n",
      "Cost after iteration  6:  132.055667\n",
      "Cost after iteration  7:  129.216513\n",
      "Cost after iteration  8:  126.453389\n",
      "Cost after iteration  9:  123.764876\n",
      "Cost after iteration  10:  121.149581\n",
      "Cost after iteration  11:  118.605997\n",
      "Cost after iteration  12:  116.132541\n",
      "Cost after iteration  13:  113.727598\n",
      "Cost after iteration  14:  111.389548\n",
      "Cost after iteration  15:  109.116825\n",
      "Cost after iteration  16:  106.907926\n",
      "Cost after iteration  17:  104.761226\n",
      "Cost after iteration  18:  102.675123\n",
      "Cost after iteration  19:  100.648020\n",
      "Cost after iteration  20:  98.678341\n",
      "Cost after iteration  21:  96.764512\n",
      "Cost after iteration  22:  94.904980\n",
      "Cost after iteration  23:  93.098231\n",
      "Cost after iteration  24:  91.342767\n",
      "Cost after iteration  25:  89.637109\n",
      "Cost after iteration  26:  87.979805\n",
      "Cost after iteration  27:  86.369435\n",
      "Cost after iteration  28:  84.804605\n",
      "Cost after iteration  29:  83.283954\n",
      "Cost after iteration  30:  81.806154\n",
      "Cost after iteration  31:  80.369908\n",
      "Cost after iteration  32:  78.973952\n",
      "Cost after iteration  33:  77.617054\n",
      "Cost after iteration  34:  76.298017\n",
      "Cost after iteration  35:  75.015676\n",
      "Cost after iteration  36:  73.768897\n",
      "Cost after iteration  37:  72.556583\n",
      "Cost after iteration  38:  71.377664\n",
      "Cost after iteration  39:  70.231101\n",
      "Cost after iteration  40:  69.115889\n",
      "Cost after iteration  41:  68.031050\n",
      "Cost after iteration  42:  66.975636\n",
      "Cost after iteration  43:  65.948732\n",
      "Cost after iteration  44:  64.949446\n",
      "Cost after iteration  45:  63.976920\n",
      "Cost after iteration  46:  63.030320\n",
      "Cost after iteration  47:  62.108838\n",
      "Cost after iteration  48:  61.211694\n",
      "Cost after iteration  49:  60.338133\n",
      "Cost after iteration  50:  59.487425\n",
      "Cost after iteration  51:  58.658861\n",
      "Cost after iteration  52:  57.851759\n",
      "Cost after iteration  53:  57.065458\n",
      "Cost after iteration  54:  56.299319\n",
      "Cost after iteration  55:  55.552723\n",
      "Cost after iteration  56:  54.825074\n",
      "Cost after iteration  57:  54.115794\n",
      "Cost after iteration  58:  53.424325\n",
      "Cost after iteration  59:  52.750127\n",
      "Cost after iteration  60:  52.092679\n",
      "Cost after iteration  61:  51.451477\n",
      "Cost after iteration  62:  50.826033\n",
      "Cost after iteration  63:  50.215877\n",
      "Cost after iteration  64:  49.620554\n",
      "Cost after iteration  65:  49.039623\n",
      "Cost after iteration  66:  48.472660\n",
      "Cost after iteration  67:  47.919252\n",
      "Cost after iteration  68:  47.379004\n",
      "Cost after iteration  69:  46.851530\n",
      "Cost after iteration  70:  46.336459\n",
      "Cost after iteration  71:  45.833432\n",
      "Cost after iteration  72:  45.342102\n",
      "Cost after iteration  73:  44.862133\n",
      "Cost after iteration  74:  44.393200\n",
      "Cost after iteration  75:  43.934989\n",
      "Cost after iteration  76:  43.487196\n",
      "Cost after iteration  77:  43.049528\n",
      "Cost after iteration  78:  42.621700\n",
      "Cost after iteration  79:  42.203438\n",
      "Cost after iteration  80:  41.794474\n",
      "Cost after iteration  81:  41.394552\n",
      "Cost after iteration  82:  41.003422\n",
      "Cost after iteration  83:  40.620843\n",
      "Cost after iteration  84:  40.246582\n",
      "Cost after iteration  85:  39.880412\n",
      "Cost after iteration  86:  39.522114\n",
      "Cost after iteration  87:  39.171477\n",
      "Cost after iteration  88:  38.828295\n",
      "Cost after iteration  89:  38.492370\n",
      "Cost after iteration  90:  38.163508\n",
      "Cost after iteration  91:  37.841524\n",
      "Cost after iteration  92:  37.526237\n",
      "Cost after iteration  93:  37.217470\n",
      "Cost after iteration  94:  36.915056\n",
      "Cost after iteration  95:  36.618829\n",
      "Cost after iteration  96:  36.328629\n",
      "Cost after iteration  97:  36.044303\n",
      "Cost after iteration  98:  35.765700\n",
      "Cost after iteration  99:  35.492675\n"
     ]
    },
    {
     "data": {
      "image/png": "[encoded data removed]",
      "text/plain": [
       "<Figure size 432x288 with 1 Axes>"
      ]
     },
     "metadata": {
      "needs_background": "light"
     },
     "output_type": "display_data"
    }
   ],
   "source": [
    "epoch = 20\n",
    "X = x_train\n",
    "Y = y_train\n",
    "m = len(X)\n",
    "W1, W2, W3, b1, b2, b3 = initialize_params()\n",
    "y_predict = np.zeros(m)\n",
    "cost_list = []\n",
    "for i in range(epoch):     \n",
    "    # Forward propagation. Inputs: \"X, parameters\". return: \"y_predict, cache\". \n",
    "    y_predict, cache = forward_prop(X, W1, W2, W3, b1, b2, b3)\n",
    "    # Cost function. Inputs: \"y_predict, Y\". Outputs: \"cost\".\n",
    "    cost = compute_cost(y_predict, Y)\n",
    "    cost_list.append(cost)\n",
    "    print (\"Cost after iteration % i: % f\" % (i, cost))\n",
    "    # Backpropagation. Inputs: \"parameters, cache, X, Y\". Outputs: \"grads\". \n",
    "    W1, W2, W3, b1, b2, b3 = back_prop(W1, W2, W3, b1, b2, b3, X, Y, cache) \n",
    "    \n",
    "plt.plot(range(epoch), cost_list, color='b')\n",
    "plt.xlabel('epochs')\n",
    "plt.ylabel('cost')\n",
    "plt.savefig(\"cost.png\")\n",
    "plt.show()\n",
    "plt.close('all')"
   ]
  },
  {
   "cell_type": "code",
   "execution_count": 20,
   "metadata": {},
   "outputs": [],
   "source": [
    "def predict(X, Y):\n",
    "    m = X.shape[0]\n",
    "    print(m)\n",
    "    # Forward propagation. Inputs: \"X, parameters\". return: \"y_predict, cache\". \n",
    "    y_predict, cache = forward_prop(X, W1, W2, W3, b1, b2, b3)\n",
    "    print(y_predict.shape)\n",
    "    print(Y.shape)\n",
    "    p = np.zeros((1, m))\n",
    "    for i in range(0, m):\n",
    "        if y_predict [0, i] > 0.5:\n",
    "            p[0, i] = 1\n",
    "        else:\n",
    "            p[0, i] = 0\n",
    " \n",
    "    print(\"Accuracy: \" + str(np.sum((p == Y.T))/ m))"
   ]
  },
  {
   "cell_type": "code",
   "execution_count": 21,
   "metadata": {},
   "outputs": [
    {
     "name": "stdout",
     "output_type": "stream",
     "text": [
      "101\n",
      "(1, 101)\n",
      "(100, 1)\n",
      "Accuracy: 0.0\n"
     ]
    },
    {
     "name": "stderr",
     "output_type": "stream",
     "text": [
      "D:\\ProgramData\\Anaconda3\\lib\\site-packages\\ipykernel_launcher.py:15: DeprecationWarning: elementwise comparison failed; this will raise an error in the future.\n",
      "  from ipykernel import kernelapp as app\n"
     ]
    }
   ],
   "source": [
    "predict(x_test, y_test)"
   ]
  },
  {
   "cell_type": "code",
   "execution_count": 22,
   "metadata": {},
   "outputs": [
    {
     "name": "stdout",
     "output_type": "stream",
     "text": [
      "900\n",
      "(1, 900)\n",
      "(900, 1)\n",
      "Accuracy: 0.07555555555555556\n"
     ]
    }
   ],
   "source": [
    "predict(x_train, y_train)"
   ]
  },
  {
   "cell_type": "code",
   "execution_count": null,
   "metadata": {},
   "outputs": [],
   "source": []
  },
  {
   "cell_type": "code",
   "execution_count": null,
   "metadata": {},
   "outputs": [],
   "source": []
  },
  {
   "cell_type": "code",
   "execution_count": null,
   "metadata": {},
   "outputs": [],
   "source": []
  },
  {
   "cell_type": "code",
   "execution_count": null,
   "metadata": {},
   "outputs": [],
   "source": []
  },
  {
   "cell_type": "code",
   "execution_count": null,
   "metadata": {},
   "outputs": [],
   "source": []
  },
  {
   "cell_type": "code",
   "execution_count": null,
   "metadata": {},
   "outputs": [],
   "source": []
  },
  {
   "cell_type": "code",
   "execution_count": null,
   "metadata": {},
   "outputs": [],
   "source": []
  },
  {
   "cell_type": "code",
   "execution_count": null,
   "metadata": {},
   "outputs": [],
   "source": []
  },
  {
   "cell_type": "code",
   "execution_count": null,
   "metadata": {},
   "outputs": [],
   "source": []
  },
  {
   "cell_type": "code",
   "execution_count": null,
   "metadata": {},
   "outputs": [],
   "source": []
  },
  {
   "cell_type": "code",
   "execution_count": null,
   "metadata": {},
   "outputs": [],
   "source": []
  }
 ],
 "metadata": {
  "kernelspec": {
   "display_name": "Python 3",
   "language": "python",
   "name": "python3"
  },
  "language_info": {
   "codemirror_mode": {
    "name": "ipython",
    "version": 3
   },
   "file_extension": ".py",
   "mimetype": "text/x-python",
   "name": "python",
   "nbconvert_exporter": "python",
   "pygments_lexer": "ipython3",
   "version": "3.7.7"
  }
 },
 "nbformat": 4,
 "nbformat_minor": 4
}
