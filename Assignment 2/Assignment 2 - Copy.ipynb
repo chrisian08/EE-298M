{
 "cells": [
  {
   "cell_type": "markdown",
   "metadata": {},
   "source": [
    "# Implementation of Backpropagation in a 3-layer Neural Network\n",
    "\n",
    "In this notebook, we will implement a 3-Layer Neural Network with the following structure.\n",
    "<br> Layers: {1−64−𝑅𝑒𝐿𝑈−64−𝑅𝑒𝐿𝑈−64−1−𝑠𝑖𝑔𝑚𝑜𝑖𝑑}\n",
    "\n",
    "We will be using the following algorithm to build our network: <br>\n",
    "1. Ask the user for the mean and standard deviation of a 1D Gaussian that will be used to build the input dataset.\n",
    "2. Build the data set, visualize it, and split it into train (90%) and test(10%).\n",
    "3. Define the activation functions to be used. \n",
    "4. Initialize the weights using a Gaussian distribution with zero mean and std=0.01.\n",
    "5. Define the forward propagation method.\n",
    "6. Compute for the cost.\n",
    "7. Define the backward propagation function and optimization\n",
    "8. Train the model using the train dataset\n",
    "8. Predict and visualize the output\n",
    "\n",
    "### 1. Packages\n",
    " We are restricted in using only the following packages.\n",
    " <ul>\n",
    "    <li> <em>numpy</em> is the main package for scientific computing with Python.</li>\n",
    "    <li> <em>matplotlib</em> is a library to plot graphs in Python.</li>\n",
    "</ul>\n",
    "   "
   ]
  },
  {
   "cell_type": "code",
   "execution_count": 11,
   "metadata": {
    "scrolled": false
   },
   "outputs": [],
   "source": [
    "import numpy as np\n",
    "import matplotlib.pyplot as plt"
   ]
  },
  {
   "cell_type": "markdown",
   "metadata": {},
   "source": [
    "### 2. Building your dataset and defining the activation functions\n",
    "First, we define a function <em>gaussian_1d</em> that will draw 1,000,000 random samples from a 1D Gaussian\n",
    "<br>Next, we  build a dataset <em>data</em> with 1000 histogram bins from it.\n",
    "<br>From the dataset, we split it into train and test. "
   ]
  },
  {
   "cell_type": "code",
   "execution_count": 12,
   "metadata": {
    "scrolled": true
   },
   "outputs": [
    {
     "data": {
      "image/png": "[encoded data removed]",
      "text/plain": [
       "<Figure size 432x288 with 1 Axes>"
      ]
     },
     "metadata": {
      "needs_background": "light"
     },
     "output_type": "display_data"
    },
    {
     "name": "stdout",
     "output_type": "stream",
     "text": [
      "(900, 1)\n",
      "(100, 1)\n"
     ]
    }
   ],
   "source": [
    "def gaussian_1d(mean, std, model=True):\n",
    "    samples = np.random.normal(mean, std, 1000000)\n",
    "    freq, edges = np.histogram(samples, 1000, density=True)\n",
    "    plt.plot(edges[:-1], freq, 'o', color='b', label=\"Observation\")\n",
    "    plt.rc('axes', labelsize=14)\n",
    "    plt.xlabel('x = Samples')\n",
    "    plt.legend(loc='upper left')\n",
    "    plt.ylabel('y = Frequency')\n",
    "    plt.savefig(\"gaussian_samples.png\")\n",
    "    plt.show()\n",
    "    plt.close('all')\n",
    "    return edges[:-1], freq\n",
    "\n",
    "#mean = float(input(\"Mean = \"))\n",
    "#std = float(input (\"Standard Deviation = \"))\n",
    "mean = 0\n",
    "std = 1\n",
    "x, freq = gaussian_1d(mean, std)\n",
    "len_dataset = len(x)\n",
    "train_length = int(0.9 * len_dataset)\n",
    "x_train, y_train = x[:train_length][:, np.newaxis], freq[:train_length][:, np.newaxis]\n",
    "x_test, y_test = x[train_length:][:, np.newaxis], freq[train_length:][:, np.newaxis]\n",
    "print(x_train.shape)\n",
    "print(x_test.shape)\n",
    "# Define the activation functions to be used\n",
    "def ReLU(Z):\n",
    "    A = np.maximum(0, Z)\n",
    "    return A\n",
    "\n",
    "def ReLU_prime(A):\n",
    "    A[A <= 0] = 0\n",
    "    A[A > 0] = 1\n",
    "    return A\n",
    "    \n",
    "def sigmoid(Z):   \n",
    "    A = 1/(1 + np.exp(-Z)) \n",
    "    return A\n",
    "\n",
    "def sigmoid_prime(A):\n",
    "    return A*(1-A)"
   ]
  },
  {
   "cell_type": "markdown",
   "metadata": {},
   "source": [
    "### 3. Initialization\n",
    "We initialize our parameters, weights and biases. <br>\n",
    "<strong>Instructions </strong> <br>\n",
    "<ul> \n",
    "    <li> As required, use Gaussian distribution with mean = 0 and standard deviation = 0.01 to initialize our weights. Use np.random.normal(mean, std, 64) </li>\n",
    "    <li> As chosen, use zero initialization for the biases. Use np.zeros(shape)."
   ]
  },
  {
   "cell_type": "code",
   "execution_count": 13,
   "metadata": {},
   "outputs": [],
   "source": [
    "# define the mean and standard deviation to be used for the weights\n",
    "mean_i = 0\n",
    "std_i = 0.01\n",
    "\n",
    "# Determine the size of our layers\n",
    "def initialize_params():\n",
    "    W1 = np.random.normal(mean_i, std_i, 64)\n",
    "    W1 = W1.reshape(64, 1)\n",
    "    b1 = np.zeros(shape = (64, 1)) \n",
    "\n",
    "    W2 = np.random.normal(mean_i, std_i, 64)\n",
    "    W2 = W2.reshape(1, 64)\n",
    "    b2 = np.zeros(shape =(1, 1))\n",
    "\n",
    "    return  W1, W2, b1, b2"
   ]
  },
  {
   "cell_type": "markdown",
   "metadata": {},
   "source": [
    "### 4. Forward Propagation\n",
    "We define the function that will perform forward propagation of the 3-Layer Neural Network using 3 activation ReLU, ReLU, sigmoid with an output of the prediction and the data of previous iteration. \n",
    "\n",
    "\n"
   ]
  },
  {
   "cell_type": "code",
   "execution_count": 14,
   "metadata": {},
   "outputs": [],
   "source": [
    "def forward_prop(X, W1, W2, b1, b2): \n",
    "    Z1 = np.dot(W1, X.T) + b1 \n",
    "    A1 = ReLU(Z1) \n",
    "    Z2 = np.dot(W2, A1) + b2 \n",
    "    A2 = ReLU(Z2) \n",
    "    cache = {\"Z1\": Z1, \n",
    "             \"A1\": A1, \n",
    "             \"Z2\": Z2, \n",
    "             \"A2\": A2}\n",
    "    return A2, cache "
   ]
  },
  {
   "cell_type": "markdown",
   "metadata": {},
   "source": [
    "### 5. Cost Function\n",
    "We define the function to compute for the loss using the Squared Error (MSE) Loss Function"
   ]
  },
  {
   "cell_type": "code",
   "execution_count": 23,
   "metadata": {},
   "outputs": [],
   "source": [
    "def compute_cost(y_predict, Y):\n",
    "    m = len(Y)\n",
    "    s = np.sum(np.square(y_predict - Y)) / m\n",
    "    return s"
   ]
  },
  {
   "cell_type": "markdown",
   "metadata": {},
   "source": [
    "### 6. Backpropagation and optimization\n",
    "We define the function that will perform backward propagation with learning rate = 0.1"
   ]
  },
  {
   "cell_type": "code",
   "execution_count": 24,
   "metadata": {},
   "outputs": [],
   "source": [
    "learning_rate = 0.1\n",
    "def back_prop(W1, W2, b1, b2, X, Y, cache):\n",
    "    # Retrieve the values cache memory dictionary \n",
    "    m = len(X)\n",
    "    Z1 = cache['Z1'] \n",
    "    Z2 = cache['Z2']\n",
    "    A1 = cache['A1'] \n",
    "    A2 = cache['A2']    \n",
    "    # Backward propagation: calculate dW1, db1, dW2, db2.  \n",
    "    dA2 = 2 * (A2 - Y.T) \n",
    "    dZ2 = np.multiply(dA2, ReLU_prime(A2))\n",
    "    dW2 = (1 / m) * np.dot(dZ2, A1.T) \n",
    "    db2 = (1 / m) * np.sum(dZ2, axis = 1, keepdims = True) \n",
    "         \n",
    "    dZ1 = np.multiply(np.dot(W2.T, dZ2), ReLU_prime(A1))\n",
    "    dW1 = (1 / m) * np.dot(dZ1, X) \n",
    "    db1 = (1 / m) * np.sum(dZ1, axis = 1, keepdims = True) \n",
    "    \n",
    "       \n",
    "    # Updating the parameters according to algorithm \n",
    "    W1 = W1 - learning_rate * dW1 \n",
    "    b1 = b1 - learning_rate * db1 \n",
    "    W2 = W2 - learning_rate * dW2 \n",
    "    b2 = b2 - learning_rate * db2\n",
    "    return W1, W2, b1, b2"
   ]
  },
  {
   "cell_type": "markdown",
   "metadata": {},
   "source": [
    "### 7. Train the model"
   ]
  },
  {
   "cell_type": "code",
   "execution_count": 27,
   "metadata": {},
   "outputs": [
    {
     "name": "stdout",
     "output_type": "stream",
     "text": [
      "Cost after iteration  0:  30.479637\n",
      "Cost after iteration  1:  28.069879\n",
      "Cost after iteration  2:  24.354298\n",
      "Cost after iteration  3:  21.984152\n",
      "Cost after iteration  4:  20.465048\n",
      "Cost after iteration  5:  19.484268\n",
      "Cost after iteration  6:  18.844071\n",
      "Cost after iteration  7:  18.419330\n",
      "Cost after iteration  8:  18.131160\n",
      "Cost after iteration  9:  17.931184\n",
      "Cost after iteration  10:  17.786711\n",
      "Cost after iteration  11:  17.677342\n",
      "Cost after iteration  12:  17.591100\n",
      "Cost after iteration  13:  17.519039\n",
      "Cost after iteration  14:  17.457201\n",
      "Cost after iteration  15:  17.402057\n",
      "Cost after iteration  16:  17.350756\n",
      "Cost after iteration  17:  17.302334\n",
      "Cost after iteration  18:  17.255412\n",
      "Cost after iteration  19:  17.209192\n"
     ]
    },
    {
     "data": {
      "image/png": "[encoded data removed]",
      "text/plain": [
       "<Figure size 432x288 with 1 Axes>"
      ]
     },
     "metadata": {
      "needs_background": "light"
     },
     "output_type": "display_data"
    }
   ],
   "source": [
    "epoch = 20\n",
    "X = x_train\n",
    "Y = y_train\n",
    "m = len(X)\n",
    "W1, W2, b1, b2 = initialize_params()\n",
    "y_predict = np.zeros(m)\n",
    "cost_list = []\n",
    "for i in range(epoch):     \n",
    "    # Forward propagation. Inputs: \"X, parameters\". return: \"y_predict, cache\". \n",
    "    y_predict, cache = forward_prop(X, W1, W2, b1, b2)\n",
    "    # Cost function. Inputs: \"y_predict, Y\". Outputs: \"cost\".\n",
    "    cost = compute_cost(y_predict, Y.T)\n",
    "    cost_list.append(cost)\n",
    "    print (\"Cost after iteration % i: % f\" % (i, cost))\n",
    "    # Backpropagation. Inputs: \"parameters, cache, X, Y\". Outputs: \"grads\". \n",
    "    W1, W2, b1, b2 = back_prop(W1, W2, b1, b2, X, Y, cache) \n",
    "    \n",
    "plt.plot(np.arange(epoch), cost_list, color='b')\n",
    "plt.xlabel('epochs')\n",
    "plt.ylabel('cost')\n",
    "plt.savefig(\"cost.png\")\n",
    "plt.show()\n",
    "plt.close('all')"
   ]
  },
  {
   "cell_type": "code",
   "execution_count": 52,
   "metadata": {},
   "outputs": [],
   "source": [
    "def predict(X, Y):\n",
    "    m = X.shape[0]\n",
    "    # Forward propagation. Inputs: \"X, parameters\". return: \"y_predict, cache\". \n",
    "    y_predict, cache = forward_prop(X, W1, W2, b1, b2)\n",
    "    p = np.zeros((1, m))\n",
    "    p = sigmoid(y_predict)\n",
    "    p[p>= 0.5] = 1\n",
    "    p[p<0.5] = 0\n",
    "    print(p==Y)\n",
    "    print(\"Accuracy: \", (p == Y).mean())"
   ]
  },
  {
   "cell_type": "code",
   "execution_count": 53,
   "metadata": {},
   "outputs": [
    {
     "name": "stdout",
     "output_type": "stream",
     "text": [
      "[[False False False ... False False False]\n",
      " [False False False ... False False False]\n",
      " [False False False ... False False False]\n",
      " ...\n",
      " [False False False ... False False False]\n",
      " [False False False ... False False False]\n",
      " [False False False ... False False False]]\n",
      "Accuracy:  0.0\n"
     ]
    }
   ],
   "source": [
    "predict(x_test, y_test)"
   ]
  },
  {
   "cell_type": "code",
   "execution_count": 54,
   "metadata": {},
   "outputs": [
    {
     "name": "stdout",
     "output_type": "stream",
     "text": [
      "[[False False False ... False False False]\n",
      " [False False False ... False False False]\n",
      " [False False False ... False False False]\n",
      " ...\n",
      " [False False False ... False False False]\n",
      " [False False False ... False False False]\n",
      " [False False False ... False False False]]\n",
      "Accuracy:  0.0\n"
     ]
    }
   ],
   "source": [
    "predict(x_train, y_train)"
   ]
  },
  {
   "cell_type": "code",
   "execution_count": null,
   "metadata": {},
   "outputs": [],
   "source": []
  },
  {
   "cell_type": "code",
   "execution_count": null,
   "metadata": {},
   "outputs": [],
   "source": []
  }
 ],
 "metadata": {
  "kernelspec": {
   "display_name": "Python 3",
   "language": "python",
   "name": "python3"
  },
  "language_info": {
   "codemirror_mode": {
    "name": "ipython",
    "version": 3
   },
   "file_extension": ".py",
   "mimetype": "text/x-python",
   "name": "python",
   "nbconvert_exporter": "python",
   "pygments_lexer": "ipython3",
   "version": "3.7.7"
  }
 },
 "nbformat": 4,
 "nbformat_minor": 4
}
